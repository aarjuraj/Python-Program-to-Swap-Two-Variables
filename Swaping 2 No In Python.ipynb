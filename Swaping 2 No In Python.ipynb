{
 "cells": [
  {
   "cell_type": "markdown",
   "id": "48bdea41",
   "metadata": {},
   "source": [
    "# Python Program to Swap Two Variables"
   ]
  },
  {
   "cell_type": "markdown",
   "id": "2d04db34",
   "metadata": {},
   "source": [
    "<p>In this example, you will learn to swap two variables by using a temporary variable and, without using temporary variable.</p>\n",
    "<p>To understand this example, you should have the knowledge of the following Python programming topics:</p>\n",
    "\n",
    "<li>Python Data Types</li> <li>Python Input, Output and Import </li><li>Python Operators</li>"
   ]
  },
  {
   "cell_type": "markdown",
   "id": "98aef93d",
   "metadata": {},
   "source": [
    "<h3>Python program to swap two variables using Temporary Variable<h3>"
   ]
  },
  {
   "cell_type": "code",
   "execution_count": 1,
   "id": "8fcc48d2",
   "metadata": {},
   "outputs": [
    {
     "name": "stdout",
     "output_type": "stream",
     "text": [
      "After Swap a =  10\n",
      "After Swap b =  5\n"
     ]
    }
   ],
   "source": [
    "a=5\n",
    "b=10\n",
    "\n",
    "#swapping No With Temp Variable\n",
    "\n",
    "temp=a\n",
    "a=b\n",
    "b=temp\n",
    "print(\"After Swap a = \", a)\n",
    "print(\"After Swap b = \", b)"
   ]
  },
  {
   "cell_type": "markdown",
   "id": "31a842c8",
   "metadata": {},
   "source": [
    "<p>In this program, we use the temp variable to hold the value of x temporarily. We then put the value of y in x and later temp in y. In this way, the values get exchanged.</p>"
   ]
  },
  {
   "cell_type": "markdown",
   "id": "905ccbd9",
   "metadata": {},
   "source": [
    "<h3>Python program to swap two variables without using Temporary Variable</h3>"
   ]
  },
  {
   "cell_type": "markdown",
   "id": "60ba9f42",
   "metadata": {},
   "source": [
    "<p>In Python, there is a simple construct to swap variables.</p>"
   ]
  },
  {
   "cell_type": "code",
   "execution_count": 2,
   "id": "822aaf23",
   "metadata": {},
   "outputs": [
    {
     "name": "stdout",
     "output_type": "stream",
     "text": [
      "After Swap a =  10\n",
      "After Swap b =  5\n"
     ]
    }
   ],
   "source": [
    "a=5\n",
    "b=10\n",
    "# Swapping\n",
    "a,b=b,a\n",
    "print(\"After Swap a = \", a)\n",
    "print(\"After Swap b = \", b)"
   ]
  },
  {
   "cell_type": "markdown",
   "id": "e60d008a",
   "metadata": {},
   "source": [
    "<p>If the variables are both numbers, we can use arithmetic operations to do the same. It might not look intuitive at first sight. But if you think about it, it is pretty easy to figure it out.</p>"
   ]
  },
  {
   "cell_type": "markdown",
   "id": "dcabb8a8",
   "metadata": {},
   "source": [
    "<h3>Python program to swap two variables using Addition and Subtraction</h3>"
   ]
  },
  {
   "cell_type": "code",
   "execution_count": 3,
   "id": "f2aaff3f",
   "metadata": {},
   "outputs": [
    {
     "name": "stdout",
     "output_type": "stream",
     "text": [
      "After Swap a =  10\n",
      "After Swap b =  5\n"
     ]
    }
   ],
   "source": [
    "a=5\n",
    "b=10\n",
    "# Swapping\n",
    "a=a+b\n",
    "b=a-b\n",
    "a=a-b\n",
    "print(\"After Swap a = \", a)\n",
    "print(\"After Swap b = \", b)"
   ]
  },
  {
   "cell_type": "markdown",
   "id": "6a56c8a3",
   "metadata": {},
   "source": [
    "<h3>Python program to swap two variables using Multiplication and Division</h3>"
   ]
  },
  {
   "cell_type": "code",
   "execution_count": 4,
   "id": "88384085",
   "metadata": {},
   "outputs": [
    {
     "name": "stdout",
     "output_type": "stream",
     "text": [
      "After Swap a =  10\n",
      "After Swap b =  5\n"
     ]
    }
   ],
   "source": [
    "a=5\n",
    "b=10\n",
    "# Swapping\n",
    "a=a*b\n",
    "b=a//b\n",
    "a=a//b\n",
    "print(\"After Swap a = \", a)\n",
    "print(\"After Swap b = \", b)"
   ]
  },
  {
   "cell_type": "markdown",
   "id": "d889cb2e",
   "metadata": {},
   "source": [
    "<h3>Python program to swap two variables using XOR swap</h3>"
   ]
  },
  {
   "cell_type": "markdown",
   "id": "fe6cad9b",
   "metadata": {},
   "source": [
    "<p>Note : This algorithm works for integers only</p>"
   ]
  },
  {
   "cell_type": "code",
   "execution_count": 5,
   "id": "04600ad8",
   "metadata": {},
   "outputs": [
    {
     "name": "stdout",
     "output_type": "stream",
     "text": [
      "After Swap a =  10\n",
      "After Swap b =  5\n"
     ]
    }
   ],
   "source": [
    "a=5\n",
    "b=10\n",
    "# Swapping\n",
    "a=a^b\n",
    "b=a^b\n",
    "a=a^b\n",
    "print(\"After Swap a = \", a)\n",
    "print(\"After Swap b = \", b)"
   ]
  }
 ],
 "metadata": {
  "kernelspec": {
   "display_name": "Python 3 (ipykernel)",
   "language": "python",
   "name": "python3"
  },
  "language_info": {
   "codemirror_mode": {
    "name": "ipython",
    "version": 3
   },
   "file_extension": ".py",
   "mimetype": "text/x-python",
   "name": "python",
   "nbconvert_exporter": "python",
   "pygments_lexer": "ipython3",
   "version": "3.9.7"
  }
 },
 "nbformat": 4,
 "nbformat_minor": 5
}
